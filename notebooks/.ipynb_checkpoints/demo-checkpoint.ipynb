{
 "cells": [
  {
   "cell_type": "markdown",
   "id": "cf359baa",
   "metadata": {},
   "source": [
    "## Getting Started\n",
    "To prepare LibRealSense Python environment, follow the steps below:\n",
    "\n",
    "- Download [PyCharm](https://www.jetbrains.com/pycharm/download/#section=windows) tool to run Python code\n",
    "- Download [Python 3.9](https://www.python.org/downloads/release/python-395/) or [Python 3.7](https://www.python.org/downloads/release/python-379/)\n",
    "- Download [get-pip.py](https://bootstrap.pypa.io/get-pip.py) and run the following commands in PyCharm terminal: \n",
    "    - ***python get-pip.py*** \n",
    "    - ***pip install pyrealsense2***\n",
    "    - ***pip install numpy***\n",
    "    - ***pip install matplotlib***\n",
    "    - ***pip install opencv-python***\n",
    "<p align=\"left\"><img src=\"images/pyrealsense2.png\" width=\"40%\" /><br><br></p>\n",
    "    "
   ]
  },
  {
   "cell_type": "code",
   "execution_count": 19,
   "id": "a6650a3e",
   "metadata": {},
   "outputs": [
    {
     "name": "stdout",
     "output_type": "stream",
     "text": [
      "Environment Ready\n"
     ]
    }
   ],
   "source": [
    "import numpy as np                        # fundamental package for scientific computing\n",
    "import matplotlib.pyplot as plt           # 2D plotting library producing publication quality figures\n",
    "import pyrealsense2 as rs                 # Intel RealSense cross-platform open-source API\n",
    "print(\"Environment Ready\")"
   ]
  },
  {
   "cell_type": "markdown",
   "id": "1662fb79",
   "metadata": {},
   "source": [
    "## Find RealSense Devices"
   ]
  },
  {
   "cell_type": "code",
   "execution_count": 20,
   "id": "ba292c74",
   "metadata": {},
   "outputs": [
    {
     "name": "stdout",
     "output_type": "stream",
     "text": [
      "Connected Devices:\n",
      "Intel RealSense D435I\n"
     ]
    }
   ],
   "source": [
    "print(\"Connected Devices:\")\n",
    "devices = []\n",
    "for d in rs.context().devices:\n",
    "    if d.get_info(rs.camera_info.name).lower() != 'platform camera':\n",
    "        devices.append(d)\n",
    "        print(d.get_info(rs.camera_info.name))\n",
    "        d.get_info(rs.camera_info.serial_number)\n",
    "if not devices:\n",
    "    print(\"No RealSense device was detected\")"
   ]
  },
  {
   "cell_type": "markdown",
   "id": "bbea5e98",
   "metadata": {},
   "source": [
    "## Find Depth and RGB Sensors"
   ]
  },
  {
   "cell_type": "code",
   "execution_count": 21,
   "id": "464b266f",
   "metadata": {},
   "outputs": [
    {
     "name": "stdout",
     "output_type": "stream",
     "text": [
      "Available sensors in device: Intel RealSense D435I\n",
      " - found Depth sensor\n",
      " - found RGB sensor\n"
     ]
    }
   ],
   "source": [
    "rgb_sensor = depth_sensor = None\n",
    "for device in devices:\n",
    "    print(\"Available sensors in device:\", d.get_info(rs.camera_info.name))\n",
    "    for s in device.sensors:\n",
    "        if s.get_info(rs.camera_info.name) == 'RGB Camera':\n",
    "            print(\" - found RGB sensor\")\n",
    "            rgb_sensor = s\n",
    "        if s.get_info(rs.camera_info.name) == 'Stereo Module':\n",
    "            depth_sensor = s\n",
    "            print(\" - found Depth sensor\")\n",
    "    if not rgb_sensor:\n",
    "        print(\"The demo requires Depth camera with Color sensor\")\n",
    "        exit(0)"
   ]
  },
  {
   "cell_type": "markdown",
   "id": "259f7f74",
   "metadata": {},
   "source": [
    "## Configure Streams"
   ]
  },
  {
   "cell_type": "code",
   "execution_count": 117,
   "id": "ba84a267",
   "metadata": {},
   "outputs": [
    {
     "name": "stdout",
     "output_type": "stream",
     "text": [
      "Done!\n"
     ]
    }
   ],
   "source": [
    "all_rgb_profiles = rgb_sensor.get_stream_profiles()\n",
    "all_depth_profiles = depth_sensor.get_stream_profiles()\n",
    "\n",
    "# configure selected profiles\n",
    "width = 848\n",
    "height = 480\n",
    "fps = 30\n",
    "rgb_profiles, depth_profiles = [], []\n",
    "\n",
    "for stream in all_rgb_profiles:\n",
    "    f = stream.as_video_stream_profile()\n",
    "    if not (f.width() == width and f.height() == height and f.format() == rs.format.bgr8 and f.fps() == fps):\n",
    "        continue\n",
    "    rgb_profiles.append(stream)\n",
    "\n",
    "for stream in all_depth_profiles:\n",
    "    f = stream.as_video_stream_profile()\n",
    "    if not (f.width() == width and f.height() == height and f.format() == rs.format.z16 and f.fps() == fps):\n",
    "        continue\n",
    "    depth_profiles.append(stream)\n",
    "\n",
    "sync = rs.syncer()\n",
    "print(\"Done!\")"
   ]
  },
  {
   "cell_type": "markdown",
   "id": "86bc8f0f",
   "metadata": {},
   "source": [
    "## Capturing Color Frames with Sensors"
   ]
  },
  {
   "cell_type": "code",
   "execution_count": 118,
   "id": "d9aa2d15",
   "metadata": {},
   "outputs": [
    {
     "name": "stdout",
     "output_type": "stream",
     "text": [
      "Done!\n"
     ]
    }
   ],
   "source": [
    "rgb_sensor.open(rgb_profiles)\n",
    "rgb_sensor.start(sync)\n",
    "\n",
    "# Skip 5 first frames to give the Auto-Exposure time to adjust\n",
    "for x in range(5):\n",
    "    sync.wait_for_frames()\n",
    "frameset = sync.wait_for_frames()\n",
    "color_frame = frameset.get_color_frame()\n",
    "\n",
    "# stop\n",
    "rgb_sensor.stop()\n",
    "rgb_sensor.close()\n",
    "\n",
    "print(\"Done!\")"
   ]
  },
  {
   "cell_type": "markdown",
   "id": "d26f34cf",
   "metadata": {},
   "source": [
    "## Capture Depth Frames using Sensor"
   ]
  },
  {
   "cell_type": "code",
   "execution_count": 119,
   "id": "2fe14f42",
   "metadata": {},
   "outputs": [
    {
     "name": "stdout",
     "output_type": "stream",
     "text": [
      "Done!\n"
     ]
    }
   ],
   "source": [
    "depth_sensor.open(depth_profiles)\n",
    "depth_sensor.start(sync)\n",
    "\n",
    "# Skip 5 first frames to give the Auto-Exposure time to adjust\n",
    "for x in range(5):\n",
    "    sync.wait_for_frames()\n",
    "frameset = sync.wait_for_frames()\n",
    "depth_frame = frameset.get_depth_frame()\n",
    "\n",
    "# stop\n",
    "depth_sensor.stop()\n",
    "depth_sensor.close()\n",
    "\n",
    "print(\"Done!\")"
   ]
  },
  {
   "cell_type": "markdown",
   "id": "5b077114",
   "metadata": {},
   "source": [
    "## Displaying Depth and Color Frames"
   ]
  },
  {
   "cell_type": "code",
   "execution_count": 120,
   "id": "b5512f87",
   "metadata": {},
   "outputs": [
    {
     "name": "stdout",
     "output_type": "stream",
     "text": [
      "<pyrealsense2.frame BGR8 #6>\n"
     ]
    },
    {
     "data": {
      "image/png": "[encoded data removed]",
      "text/plain": [
       "<Figure size 576x288 with 2 Axes>"
      ]
     },
     "metadata": {
      "needs_background": "light"
     },
     "output_type": "display_data"
    },
    {
     "name": "stdout",
     "output_type": "stream",
     "text": [
      "Done!\n"
     ]
    }
   ],
   "source": [
    "print(color_frame)\n",
    "colorizer = rs.colorizer()\n",
    "colorized_depth = np.asanyarray(colorizer.colorize(depth_frame).get_data())\n",
    "colorized_color = np.asanyarray(colorizer.colorize(color_frame).get_data())\n",
    "\n",
    "arr = [colorized_depth, colorized_color]\n",
    "title = [\"Depth Image\", \"RGB Image\"]\n",
    "plt.rcParams[\"axes.grid\"] = False\n",
    "fig, axs = plt.subplots(nrows=1, ncols=2, figsize=(8,4))\n",
    "for i, ax in enumerate(axs.flatten()):\n",
    "    plt.sca(ax)\n",
    "    plt.imshow(arr[i], cmap=plt.cm.jet)\n",
    "    plt.title(title[i])\n",
    "\n",
    "plt.tight_layout()\n",
    "plt.show()\n",
    "\n",
    "print(\"Done!\")"
   ]
  },
  {
   "cell_type": "markdown",
   "id": "232e0ec5",
   "metadata": {},
   "source": [
    "## Capturing Depth and Color Frame using Pipe"
   ]
  },
  {
   "cell_type": "code",
   "execution_count": 145,
   "id": "b86d888e",
   "metadata": {},
   "outputs": [
    {
     "name": "stdout",
     "output_type": "stream",
     "text": [
      "Frames are captured\n"
     ]
    }
   ],
   "source": [
    "# Start pipe streaming\n",
    "#cfg.enable_device_from_file(\"stairs.bag\")\n",
    "cfg = rs.config()\n",
    "cfg.enable_stream(rs.stream.depth, 848, 480, rs.format.z16, 30)\n",
    "cfg.enable_stream(rs.stream.color, 848, 480, rs.format.bgr8, 30)\n",
    "profile = pipe.start(cfg)\n",
    "\n",
    "# Skip 5 first frames to give the Auto-Exposure time to adjust\n",
    "for x in range(10):\n",
    "    pipe.wait_for_frames()\n",
    "    \n",
    "# Store next frameset for later processing:\n",
    "frameset = pipe.wait_for_frames()\n",
    "depth_frame = frameset.get_depth_frame()\n",
    "color_frame = frameset.get_color_frame()\n",
    "\n",
    "# Cleanup:\n",
    "pipe.stop()\n",
    "print(\"Frames are captured\")"
   ]
  },
  {
   "cell_type": "markdown",
   "id": "5e6da2e3",
   "metadata": {},
   "source": [
    "## Changing RGB Exposure and Depth Laser Power Controls"
   ]
  },
  {
   "cell_type": "code",
   "execution_count": 141,
   "id": "f1127a89",
   "metadata": {},
   "outputs": [
    {
     "name": "stdout",
     "output_type": "stream",
     "text": [
      "9.0\n",
      "1250.0\n",
      "5.0\n",
      "5.0\n",
      "Done!\n"
     ]
    }
   ],
   "source": [
    "if rgb_sensor.supports(rs.option.exposure) :\n",
    "    print(rgb_sensor.get_option(rs.option.exposure))\n",
    "    rgb_sensor.set_option(rs.option.exposure, 1000)\n",
    "    print(rgb_sensor.get_option(rs.option.exposure))\n",
    "    \n",
    "if depth_sensor.supports(rs.option.laser_power) :\n",
    "    print(depth_sensor.get_option(rs.option.laser_power))\n",
    "    depth_sensor.set_option(rs.option.laser_power, 5)\n",
    "    print(depth_sensor.get_option(rs.option.laser_power))\n",
    "\n",
    "print(\"Done!\")"
   ]
  }
 ],
 "metadata": {
  "kernelspec": {
   "display_name": "Python 3",
   "language": "python",
   "name": "python3"
  },
  "language_info": {
   "codemirror_mode": {
    "name": "ipython",
    "version": 3
   },
   "file_extension": ".py",
   "mimetype": "text/x-python",
   "name": "python",
   "nbconvert_exporter": "python",
   "pygments_lexer": "ipython3",
   "version": "3.9.5"
  }
 },
 "nbformat": 4,
 "nbformat_minor": 5
}
