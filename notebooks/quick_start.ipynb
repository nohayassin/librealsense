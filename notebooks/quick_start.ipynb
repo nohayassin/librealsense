{
 "cells": [
  {
   "cell_type": "markdown",
   "id": "6a9af650",
   "metadata": {
    "cell_style": "center"
   },
   "source": [
    "## Getting Started\n",
    "To prepare LibRealSense Python environment, follow the steps below:\n",
    "\n",
    "- Download [PyCharm](https://www.jetbrains.com/pycharm/download/#section=windows) tool to run Python code\n",
    "- Download [Python 3.9](https://www.python.org/downloads/release/python-395/) or [Python 3.7](https://www.python.org/downloads/release/python-379/)\n",
    "- Download [get-pip.py](https://bootstrap.pypa.io/get-pip.py) and run the following commands in PyCharm terminal: \n",
    "    - ***python get-pip.py*** \n",
    "    - ***pip install pyrealsense2***\n",
    "    - ***pip install numpy***\n",
    "    - ***pip install matplotlib***\n",
    "    - ***pip install opencv-python***\n",
    "<p align=\"left\"><img src=\"images/pyrealsense2.png\" width=\"40%\" /><br><br></p>\n",
    "    "
   ]
  },
  {
   "cell_type": "code",
   "execution_count": 39,
   "id": "a6650a3e",
   "metadata": {},
   "outputs": [
    {
     "name": "stdout",
     "output_type": "stream",
     "text": [
      "Environment is Ready\n"
     ]
    }
   ],
   "source": [
    "import os\n",
    "import numpy as np                        # fundamental package for scientific computing\n",
    "import matplotlib.pyplot as plt           # 2D plotting library producing publication quality figures\n",
    "import pyrealsense2 as rs                 # Intel RealSense cross-platform open-source API\n",
    "print(\"Environment is Ready\")"
   ]
  },
  {
   "cell_type": "markdown",
   "id": "263304af",
   "metadata": {
    "cell_style": "split"
   },
   "source": [
    "## Find Live RealSense Devices"
   ]
  },
  {
   "cell_type": "markdown",
   "id": "154683cb",
   "metadata": {
    "cell_style": "split"
   },
   "source": [
    "## Find Devices from ROSBAG"
   ]
  },
  {
   "cell_type": "code",
   "execution_count": 62,
   "id": "24dbaab2",
   "metadata": {
    "cell_style": "split"
   },
   "outputs": [
    {
     "name": "stdout",
     "output_type": "stream",
     "text": [
      "Connected Devices:\n",
      "Intel RealSense D455\n"
     ]
    }
   ],
   "source": [
    "print(\"Connected Devices:\")\n",
    "devices = []\n",
    "for d in rs.context().devices:\n",
    "    if d.get_info(rs.camera_info.name).lower() != 'platform camera':\n",
    "        devices.append(d)\n",
    "        print(d.get_info(rs.camera_info.name))\n",
    "        d.get_info(rs.camera_info.serial_number)\n",
    "if not devices:\n",
    "    print(\"No RealSense device was detected\")"
   ]
  },
  {
   "cell_type": "code",
   "execution_count": 60,
   "id": "bcd5bb5f",
   "metadata": {
    "cell_style": "split"
   },
   "outputs": [
    {
     "name": "stdout",
     "output_type": "stream",
     "text": [
      "Connected Devices:\n",
      "Intel RealSense D435I\n"
     ]
    }
   ],
   "source": [
    "path = str(os.environ['USERPROFILE']+'\\.jupyter\\downloads\\quick_start.bag')\n",
    "cfg = rs.config()\n",
    "pipe = rs.pipeline()\n",
    "cfg.enable_device_from_file(path)\n",
    "devices = []\n",
    "\n",
    "# Get device product line for setting a supporting resolution\n",
    "pipe_wrapper = rs.pipeline_wrapper(pipe)\n",
    "pipe_profile = cfg.resolve(pipe_wrapper)\n",
    "device = pipeline_profile.get_device()\n",
    "devices.append(device)\n",
    "print(\"Connected Devices:\")\n",
    "print(device.get_info(rs.camera_info.name))"
   ]
  },
  {
   "cell_type": "markdown",
   "id": "bbea5e98",
   "metadata": {},
   "source": [
    "## Find Depth and RGB Sensors"
   ]
  },
  {
   "cell_type": "code",
   "execution_count": 63,
   "id": "464b266f",
   "metadata": {},
   "outputs": [
    {
     "name": "stdout",
     "output_type": "stream",
     "text": [
      "Available sensors in device: Intel RealSense D455\n",
      " - found Depth sensor\n",
      " - found RGB sensor\n"
     ]
    }
   ],
   "source": [
    "rgb_sensor = depth_sensor = None\n",
    "for device in devices:\n",
    "    print(\"Available sensors in device:\", device.get_info(rs.camera_info.name))\n",
    "    for s in device.sensors:\n",
    "        if s.get_info(rs.camera_info.name) == 'RGB Camera':\n",
    "            print(\" - found RGB sensor\")\n",
    "            rgb_sensor = s\n",
    "        if s.get_info(rs.camera_info.name) == 'Stereo Module':\n",
    "            depth_sensor = s\n",
    "            print(\" - found Depth sensor\")\n",
    "    if not rgb_sensor:\n",
    "        print(\"The demo requires Depth camera with Color sensor\")\n",
    "        exit(0)"
   ]
  },
  {
   "cell_type": "markdown",
   "id": "355c2be0",
   "metadata": {
    "cell_style": "split"
   },
   "source": [
    "## Create a Pipe for Live Streaming"
   ]
  },
  {
   "cell_type": "markdown",
   "id": "232e0ec5",
   "metadata": {
    "cell_style": "split"
   },
   "source": [
    "## Configure ROSBAG Device"
   ]
  },
  {
   "cell_type": "code",
   "execution_count": 64,
   "id": "c55b736f",
   "metadata": {
    "cell_style": "split"
   },
   "outputs": [
    {
     "name": "stdout",
     "output_type": "stream",
     "text": [
      "Live device is configured\n"
     ]
    }
   ],
   "source": [
    "pipe = rs.pipeline()\n",
    "cfg = rs.config()\n",
    "print(\"Live device is configured\")"
   ]
  },
  {
   "cell_type": "code",
   "execution_count": 44,
   "id": "d96bfcac",
   "metadata": {
    "cell_style": "split"
   },
   "outputs": [
    {
     "name": "stdout",
     "output_type": "stream",
     "text": [
      "ROSBAG device is configured\n"
     ]
    }
   ],
   "source": [
    "# Setup:\n",
    "path = str(os.environ['USERPROFILE']+'\\.jupyter\\downloads\\quick_start.bag')\n",
    "pipe = rs.pipeline()\n",
    "cfg = rs.config()\n",
    "cfg.enable_device_from_file(path)\n",
    "profile = pipe.start(cfg)\n",
    "print(\"ROSBAG device is configured\")"
   ]
  },
  {
   "cell_type": "markdown",
   "id": "5b077114",
   "metadata": {},
   "source": [
    "## Displaying Depth and Color Frames"
   ]
  },
  {
   "cell_type": "code",
   "execution_count": 69,
   "id": "b5512f87",
   "metadata": {},
   "outputs": [
    {
     "name": "stdout",
     "output_type": "stream",
     "text": [
      "Done!\n"
     ]
    }
   ],
   "source": [
    "from IPython.display import clear_output\n",
    "\n",
    "colorizer = rs.colorizer()\n",
    "# Start pipe streaming\n",
    "profile = pipe.start(cfg)\n",
    "\n",
    "# config display\n",
    "plt.rcParams[\"axes.grid\"] = False\n",
    "plt.axis('off')\n",
    "title = [\"Depth Image\", \"RGB Image\"]\n",
    "fig, axs = plt.subplots(nrows=1, ncols=2, figsize=(12,4))\n",
    "\n",
    "for _ in range(5):\n",
    "    # Store next frameset for processing:\n",
    "    frameset = pipe.wait_for_frames()\n",
    "    depth_frame = frameset.get_depth_frame()\n",
    "    color_frame = frameset.get_color_frame()\n",
    "    colorized_depth = np.asanyarray(colorizer.colorize(depth_frame).get_data())\n",
    "    colorized_color = np.asanyarray(colorizer.colorize(color_frame).get_data())\n",
    "    arr = [colorized_depth, colorized_color]\n",
    "    \n",
    "    for i, ax in enumerate(axs.flatten()):\n",
    "        plt.sca(ax)\n",
    "        plt.imshow(arr[i])\n",
    "        plt.title(title[i])\n",
    "        \n",
    "    plt.tight_layout()\n",
    "    plt.show()\n",
    "    plt.pause(1)\n",
    "    clear_output(wait=True)\n",
    "\n",
    "# Cleanup:\n",
    "pipe.stop()\n",
    "print(\"Done!\")"
   ]
  },
  {
   "cell_type": "markdown",
   "id": "5e6da2e3",
   "metadata": {},
   "source": [
    "## RGB Exposure and Depth Laser Power Controls"
   ]
  },
  {
   "cell_type": "code",
   "execution_count": 68,
   "id": "f1127a89",
   "metadata": {},
   "outputs": [
    {
     "name": "stdout",
     "output_type": "stream",
     "text": [
      "1250.0\n",
      "39.0\n",
      "5.0\n",
      "200.0\n",
      "Done!\n"
     ]
    }
   ],
   "source": [
    "if rgb_sensor.supports(rs.option.exposure) :\n",
    "    print(rgb_sensor.get_option(rs.option.exposure))\n",
    "    rgb_sensor.set_option(rs.option.exposure, 50)\n",
    "    print(rgb_sensor.get_option(rs.option.exposure))\n",
    "    \n",
    "if depth_sensor.supports(rs.option.laser_power) :\n",
    "    print(depth_sensor.get_option(rs.option.laser_power))\n",
    "    depth_sensor.set_option(rs.option.laser_power, 200)\n",
    "    print(depth_sensor.get_option(rs.option.laser_power))\n",
    "\n",
    "print(\"Done!\")"
   ]
  }
 ],
 "metadata": {
  "kernelspec": {
   "display_name": "Python 3",
   "language": "python",
   "name": "python3"
  },
  "language_info": {
   "codemirror_mode": {
    "name": "ipython",
    "version": 3
   },
   "file_extension": ".py",
   "mimetype": "text/x-python",
   "name": "python",
   "nbconvert_exporter": "python",
   "pygments_lexer": "ipython3",
   "version": "3.9.5"
  }
 },
 "nbformat": 4,
 "nbformat_minor": 5
}
